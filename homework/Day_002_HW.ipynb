{
 "cells": [
  {
   "cell_type": "markdown",
   "metadata": {},
   "source": [
    "## [作業目標]\n",
    "了解機器學習適合應用的領域與範疇。"
   ]
  },
  {
   "cell_type": "markdown",
   "metadata": {},
   "source": [
    "## [作業重點]\n",
    "透過瞭解機器學習的運作方式，找出非常適用機器學習應用的領域及其原因"
   ]
  },
  {
   "cell_type": "markdown",
   "metadata": {},
   "source": [
    "## 作業\n",
    "請找出一個你認為機器學習可以發光發熱的領域並闡述原因? "
   ]
  },
  {
   "cell_type": "code",
   "execution_count": null,
   "metadata": {},
   "outputs": [],
   "source": [
    "#可以運用在所有商業經營預測\n",
    "#會計是被預測未來10年會消失的職業，如何不再淘汰的潮流中被取代，勢必往財務分析、系統導入、流程改善、營運預測發展。\n",
    "#https://www.businessweekly.com.tw/magazine/Article_mag_page.aspx?id=68213\n",
    "#掌握通路及資訊能力的企業能贏，也透過壽司郎的例子發現，除了已經從通路稱霸的企業，如amazon、google，也有零售業、連鎖店從這領域佔得先機ㄝ\n",
    "#透過餐盤的IC晶片，取得世界所有分店的消費者的消費資訊，來規劃熱門、非熱門商品的食材存貨量，降低庫存量及報廢率，進而減少存貨管理成本、報廢成本，\n",
    "#甚至進一步從客人進店時間、消費時段、季節、客人年齡、性別等特質，去預測規劃上菜品項，促進更進一步的消費，達到最大利益。\n",
    "#如此需要即時掌握食材新鮮度及客人意向的企業可以運用資訊達到如此高度，各領域零售、量販店皆令人期待。"
   ]
  }
 ],
 "metadata": {
  "kernelspec": {
   "display_name": "Python 3",
   "language": "python",
   "name": "python3"
  },
  "language_info": {
   "codemirror_mode": {
    "name": "ipython",
    "version": 3
   },
   "file_extension": ".py",
   "mimetype": "text/x-python",
   "name": "python",
   "nbconvert_exporter": "python",
   "pygments_lexer": "ipython3",
   "version": "3.7.3"
  }
 },
 "nbformat": 4,
 "nbformat_minor": 2
}
